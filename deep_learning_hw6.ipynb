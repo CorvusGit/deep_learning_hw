{
 "cells": [
  {
   "cell_type": "code",
   "execution_count": 1,
   "id": "938b18a4",
   "metadata": {},
   "outputs": [],
   "source": [
    "import numpy as np\n",
    "import pandas as pd  # для работы с данными\n",
    "import time  # для оценки времени\n",
    "import torch  # для написания нейросети\n",
    "from torch import nn\n",
    "import re"
   ]
  },
  {
   "cell_type": "markdown",
   "id": "d307d1a1",
   "metadata": {},
   "source": [
    "# Шифр цезаря"
   ]
  },
  {
   "cell_type": "code",
   "execution_count": 2,
   "id": "81acc17a",
   "metadata": {},
   "outputs": [],
   "source": [
    "CHARS = [chr(x) for x in range(ord('а'),ord('а')+32)]\n",
    "CHAR_TO_INDEX_С = {w: i for i, w in enumerate(CHARS)}"
   ]
  },
  {
   "cell_type": "code",
   "execution_count": 3,
   "id": "5138373b",
   "metadata": {},
   "outputs": [],
   "source": [
    "def caesar_encode(in_text,chars,chars_index,k=2):\n",
    "    return ''.join([chars[(chars_index[x]+k)%len(chars)] if x in chars else x for x in in_text])\n",
    "\n",
    "def caesar_decode(in_text,chars,chars_index,k=2):\n",
    "    return ''.join([chars[(chars_index[x]-k)%len(chars)] if x in chars else x for x in in_text])"
   ]
  },
  {
   "cell_type": "code",
   "execution_count": 4,
   "id": "09378eaf",
   "metadata": {},
   "outputs": [
    {
     "data": {
      "text/plain": [
       "'— Ифвм...— ердртко оэ.'"
      ]
     },
     "execution_count": 4,
     "metadata": {},
     "output_type": "execute_result"
    }
   ],
   "source": [
    "caesar_encode(\"— Итак...— говорим мы.\",CHARS,CHAR_TO_INDEX_С,k=2)"
   ]
  },
  {
   "cell_type": "code",
   "execution_count": 5,
   "id": "fd3b3b9b",
   "metadata": {},
   "outputs": [
    {
     "data": {
      "text/plain": [
       "'— Итак...— говорим мы.'"
      ]
     },
     "execution_count": 5,
     "metadata": {},
     "output_type": "execute_result"
    }
   ],
   "source": [
    "caesar_decode('— Ифвм...— ердртко оэ.',CHARS,CHAR_TO_INDEX_С,k=2)"
   ]
  },
  {
   "cell_type": "code",
   "execution_count": 6,
   "id": "e5139eb8",
   "metadata": {},
   "outputs": [],
   "source": [
    "INDEX_TO_CHAR = ['none'] + [w for w in CHARS+[' ']]\n",
    "CHAR_TO_INDEX = {w: i for i, w in enumerate(INDEX_TO_CHAR)}"
   ]
  },
  {
   "cell_type": "code",
   "execution_count": 7,
   "id": "f7c126c5",
   "metadata": {},
   "outputs": [],
   "source": [
    "# Тот, кто ждёт. Рэй Брэдбери\n",
    "text = '''Я живу в колодце. Я живу в колодце, как дымка. Как пар в каменной глотке. Я недвижим. Я ничего не делаю, только жду. Наверху я вижу холодные ночные и утренние звезды, вижу солнце. И пою иногда древние песни этого мира, песни времен его юности. Как я могу сказать, что я такое, когда и сам не знаю? Никак не могу. Я просто жду. Я — туман, я — лунный свет и память. Я печален и стар. Иногда я дождем падаю в колодец, и там, куда шлепаются мои быстрые капли, вода вздрагивает и покрывается узорчатой паутиной. Я жду в прохладной тиши, и наступит день, когда мне уже не придется ждать.\n",
    "Сейчас утро. Я слышу мощный гром. Я чувствую вдалеке запах огня. Я слышу скрежет металла. Я жду. Я — слух.\n",
    "Голоса. Далеко. — Порядок!\n",
    "Один голос. Чужой голос. Неведомый язык, которого не знаю. Ни единого знакомого слова. Я слушаю.\n",
    "— Выпускайте людей наружу.\n",
    "Хруст песчинок.\n",
    "— Где флаг?\n",
    "— Здесь, сэр.\n",
    "— Хорошо, хорошо.\n",
    "Солнце стоит высоко в синем небе, его золотые лучи наполняют колодец, и я зависаю в нем — невидимое облачко в теплом свете.\n",
    "Голоса.\n",
    "— Именем правительства Земли объявляю эту планету Марсианской Территорией, равно поделенной между нациями.\n",
    "Что они говорят? Я кружусь в лучах солнца, словно колесо, невидимый и неторопливый, золотистый и неутомимый.\n",
    "— Что это тут?\n",
    "— Колодец!\n",
    "— Да ну!\n",
    "— Ну-ка? Точно!\n",
    "Приближается что-то теплое. Над зевом колодца склоняются три объекта, и моя прохлада поднимается к ним.\n",
    "— Ух ты!\n",
    "— Думаешь, там хорошая вода?\n",
    "— Увидим.\n",
    "— Эй, кто-нибудь, принесите склянку и шпагат.\n",
    "— Я принесу.\n",
    "Звук бегущих шагов. Удаляющихся. Теперь приближающихся.\n",
    "— Вот.\n",
    "Я жду.\n",
    "— Опускаем. Легонько.\n",
    "Склянка, поблескивая, медленно опускается на шпагате. Вода подернулась мелкой рябью, когда склянка коснулась ее и наполнилась. Я поднимаюсь в теплом воздухе к жерлу колодца.\n",
    "— Вот. Хотите отведать этой водицы, Риджент?\n",
    "— Давайте.\n",
    "— Что за чудесный колодец! Взгляните, как он устроен.\n",
    "Сколько ему лет, как вы думаете?\n",
    "— Бог знает. Когда мы вчера сели в том, другом, городе, Смит сказал, что уже десять тысяч лет как на Марсе нет жизни.\n",
    "— Подумать только!\n",
    "— Ну что, Риджент, как водичка?\n",
    "— Чистый хрусталь. Выпей стаканчик.\n",
    "Плеск воды на солнцепеке. Теперь я плыву буроватой пылью на легком ветерке.\n",
    "— В чем дело, Джонс?\n",
    "— Не знаю. Ужасно заболела голова. Ни с того ни с сего.\n",
    "— Ты еще не пил эту воду?\n",
    "— Нет. Дело не в ней. Я просто склонился над колодцем, и голова вдруг стала раскалываться. Но сейчас уже лучше.\n",
    "Теперь я знаю, кто я.\n",
    "Мое имя — Стивен Леонард Джонс, мне двадцать пять лет, и я только что прилетел в ракете с планеты под названием Земля. А теперь стою с моими добрыми друзьями Риджентом и Шоу возле старого колодца на планете Марс.\n",
    "Я смотрю на свои золотистые пальцы, загорелые и крепкие, оглядываю свои длинные ноги и серебристую форму, оглядываю моих друзей.\n",
    "— Что случилось, Джонс? — спрашивают они.\n",
    "— Ничего,— говорю я, глядя на них,— ровным счетом ничего.\n",
    "До чего же вкусна пища! Я не ел уже десять тысяч лет. Пища нежно ласкает мой язык, а вино, которым я запиваю ее, согревает. Я слушаю голоса. Я составляю слова, которых не понимаю и все же как-то понимаю. Я пробую на вкус воздух.\n",
    "— В чем дело, Джонс?\n",
    "Я склоняю набок эту свою голову и опускаю руки, которые держат серебристую емкость с пищей. Мне доступны все ощущения.\n",
    "— О чем вы? — спрашивает этот мой голос. Это моя новая штуковина.\n",
    "— Ты странно дышишь, с покашливанием,— говорит второй человек.\n",
    "— Может, начинается легкая простуда,— заявляю я.\n",
    "— Потом пойдешь к доктору, обследуешься.\n",
    "Я киваю головой, и кивать приятно. Приятно сделать хоть что-нибудь спустя десять тысяч лет. Приятно подышать воздухом и почувствовать, как солнце прогревает плоть, все глубже и глубже. Приятно ощутить твердую кость, тонкий скелет в согревшейся плоти, приятно слышать звуки гораздо яснее, гораздо ближе, чем там, в каменных глубинах колодца. Я сижу как зачарованный.\n",
    "— Очнись, Джонс. Вставай. Надо идти.\n",
    "— Да,— отвечаю я, завороженный тем, как слово рождается на языке, как оно медленно и красиво падает в воздух.\n",
    "Я иду. И идти приятно. Я выпрямляюсь и смотрю на землю. Она далеко от глаз и от головы. Как будто живешь на прекрасном утесе.\n",
    "Риджент стоит у каменного колодца, глядит в него. Остальные, бормоча что-то, ушли к серебристому кораблю, из которого они появились.\n",
    "Я чувствую свои пальцы и ощущаю улыбку у себя на губах.\n",
    "— Он глубокий,— говорю я.\n",
    "— Да.\n",
    "— Он называется Колодец Душ.\n",
    "Риджент поднимает голову и смотрит на меня. — Откуда ты это знаешь?\n",
    "— А что, разве не похоже?\n",
    "— Я никогда прежде не слыхал о Колодце Душ.\n",
    "— Это место, где все ждущие, те, кто раньше имел плоть, ждут и ждут без конца,— говорю я, касаясь его руки.\n",
    "Песок — огонь, а корабль — серебряный огонь в дневном зное. И чувствовать зной приятно. Звук моих шагов по твердому песку. Я слушаю. Шум ветра и гул солнца, жгущего долины. Я вдыхаю запах кипящей в полдень ракеты. Я стою под люком.\n",
    "— Где Риджент? — спрашивает кто-то.\n",
    "— Видел его у колодца,— отвечаю я.\n",
    "Один из них бежит к колодцу.\n",
    "Я начинаю дрожать. Тихая трясучая дрожь, затаившаяся глубоко внутри, становится все сильнее. И я впервые слышу его, как будто он хоронился вместе со мной в колодце: глубоко внутри кричит голос, тонкий и испуганный. Голос кричит: «Отпусти меня, отпусти меня»,— и такое чувство, будто что-то рвется на волю; хлопают двери в лабиринте, что-то бежит по темным коридорам и переходам, слышатся крики.\n",
    "— Риджент в колодце!\n",
    "Люди бегут. Я бегу с ними, но мне дурно, и дрожь буквально неистовствует.\n",
    "— Наверное, он упал. Джонс, ты был здесь с ним. Ты видел? Джонс? Ну, говори же, парень!\n",
    "— В чем дело, Джонс?\n",
    "Я падаю на колени. Как же сильно меня трясет!\n",
    "— Он болен. Эй, помогите-ка поднять его.\n",
    "— Это солнце.\n",
    "— Нет,— бормочу я,— не солнце.\n",
    "Они укладывают меня на спину; судороги похожи на подземные толчки, и голос, спрятанный глубоко во мне, кричит: «Это Джонс, это я, это не он, это не он, не верьте ему, выпустите меня, выпустите меня!» И я смотрю вверх на склоненные фигуры и моргаю. Они касаются моих запястий.\n",
    "— У него сердце частит.\n",
    "Я закрываю глаза. Крики стихают. Дрожь прекращается. Освобожденный, я поднимаюсь, будто в прохладном колодце.\n",
    "— Он мертв,— говорит кто-то.\n",
    "— Джонс умер.\n",
    "— Отчего?\n",
    "— Похоже, от шока.\n",
    "— От какого шока? — спрашиваю я. Меня зовут Сешшнз, мои губы с трудом шевелятся, и я — капитан этих людей. Я стою среди них и смотрю вниз, на тело, которое лежит и остывает на песке. Я хватаю себя за голову обеими руками.\n",
    "— Капитан!\n",
    "— Ничего! — кричу я.— Просто головная боль. Все будет в порядке.\n",
    "«Ну, ну,— шепчу я.— Теперь все хорошо».\n",
    "— Нам лучше уйти в тень, сэр.\n",
    "— Да,— говорю я, глядя сверху на Джонса.— Нам не надо было прилетать: Марс не хочет нас.\n",
    "Мы несем тело к кораблю, а глубоко внутри меня кричит новый голос, требуя свободы.\n",
    "«Помогите, помогите...— звучит где-то далеко, во влажной плоти.— Помогите, помогите...» — эхом разносятся слова мольбы, словно красные призраки.\n",
    "На этот раз дрожь начинается гораздо раньше. Я не могу управлять собой, как прежде.\n",
    "— Капитан, вы бы лучше перешли в тень. У вас неважный вид, сэр.\n",
    "— Да,— говорю я.— Помогите,— говорю я.\n",
    "— Что, сэр?\n",
    "— Я ничего не говорил.\n",
    "— Вы сказали «помогите», сэр.\n",
    "— Я сказал? Мэтьюс, я сказал?\n",
    "Тело укладывают в тени ракеты, и голос кричит в глубине затопленных водой катакомб из костей и багровых потоков. Мои руки сводит судорогой. Мой разинутый рот иссох. Мои ноздри раздуваются. Мои глаза закатываются. «Помогите, помогите, о, помогите! Не надо, не надо, выпустите меня, выпустите меня!»\n",
    "— Не надо,— говорю я.\n",
    "— Что, сэр?\n",
    "— Ничего,— говорю я.— Я должен освободиться,— говорю я, зажимая ладонью рот.\n",
    "— Как так, сэр? — кричит Мэтьюс.\n",
    "— Все — в ракету! — воплю я.— Возвращайтесь на Землю!\n",
    "У меня в руках пистолет. Я поднимаю его.\n",
    "Хлопок. Бегущие тени. Крик обрывается. Слышится свист, с которым несешься сквозь космос.\n",
    "Как приятно умереть через десять тысяч лет. Как приятно почувствовать эту желанную прохладу, эту расслабленность. Как славно ощущать себя рукой в перчатке, которая вытягивается и становится дивно холодной на горячем песке. О, этот покой, эта благость сгущающейся тьмы смерти. Но ее нельзя продлить.\n",
    "Треск. Щелчок.\n",
    "— Боже всемогущий, он покончил с собой! — кричу я и открываю глаза. И вижу капитана. Он лежит, привалившись к ракете; голова раскроена пулей, глаза навыкате, язык высовывается меж белых зубов. Из головы хлещет кровь. Я склоняюсь над ним и касаюсь его.\n",
    "— Глупец! — говорю я.— Зачем он это сделал?\n",
    "Парней охватывает ужас. Они стоят над двумя мертвецами и, повернув головы, смотрят на марсианские пески и далекий колодец, где под толщей воды лежит Риджент.\n",
    "С их сухих губ срывается хрип, они хнычут, будто дети в кошмарном сне.\n",
    "Они поворачиваются ко мне.\n",
    "После долгого молчания один из них говорит:\n",
    "— Значит, теперь капитан ты, Мэтьюс.\n",
    "— Знаю,— медленно говорю я.\n",
    "— Нас осталось только шестеро.\n",
    "— Боже, как быстро все произошло!\n",
    "— Я не хочу оставаться тут. Давайте сматываться!\n",
    "Парни галдят. Я подхожу и дотрагиваюсь до каждого из них. Я так уверен в себе, что хочется петь.\n",
    "— Слушайте,— говорю я и касаюсь их локтей, плеч или кистей.\n",
    "Мы умолкаем.\n",
    "Мы — единое целое.\n",
    "«Нет, нет, нет, нет, нет, нет!» — кричат внутренние голоса, они глубоко, в темницах наших тел.\n",
    "Мы переглядываемся. Мы — Самуэль Мэтьюс, Чарлз Ивэнс, Форрест Коул, Рэймонд Мозес, Вильям Сполдинг и Джон Саммерс, и мы молчим. Мы только смотрим друг на друга, на наши бледные лица и трясущиеся руки.\n",
    "Мы поворачиваемся как один и глядим в колодец.\n",
    "— Итак...— говорим мы.\n",
    "«Нет, нет!» — кричат шесть голосов, запрятанных, придавленных и погребенных навеки.\n",
    "Наши ноги ступают по песку, и чувство такое, словно громадная двенадцатипалая ладонь отчаянно цепляется за теплое морское дно.\n",
    "Мы склоняемся над колодцем, пока не теряем равновесие и не валимся по очереди в зев, летя сквозь прохладный мрак вниз, в холодные воды.\n",
    "'''.lower()\n",
    "\n",
    "check_text = '''Солнце садится. Звезды кружатся в ночном небе. Там, вдалеке, мерцает огонек. Приближается другая ракета, прочерчивая космос красным пунктиром.\n",
    "Я живу в колодце. Я живу в колодце, как дымка. Как пар в каменной глотке. Наверху я вижу холодные ночные и утренние звезды, вижу солнце. И пою иногда древние песни этого мира, песни времен его юности. Как я могу сказать, что я такое, когда и сам не знаю? Никак не могу.\n",
    "Я просто жду.'''.lower()"
   ]
  },
  {
   "cell_type": "code",
   "execution_count": 8,
   "id": "922723b0",
   "metadata": {},
   "outputs": [],
   "source": [
    "def text_proc(text):\n",
    "    phras = [x.strip() for x in re.split(r';|\\.|\\!|\\?',text.replace('\\n','')) if len(x)>0]\n",
    "    phras = [re.sub(r'[^\\w\\s\\d]','',x).strip() for x in phras]\n",
    "    phras = [re.sub(r'\\s+',' ',x).strip() for x in phras]\n",
    "    return phras"
   ]
  },
  {
   "cell_type": "code",
   "execution_count": 9,
   "id": "ae53a8e6",
   "metadata": {},
   "outputs": [
    {
     "data": {
      "text/plain": [
       "['я живу в колодце',\n",
       " 'я живу в колодце как дымка',\n",
       " 'как пар в каменной глотке',\n",
       " 'я недвижим',\n",
       " 'я ничего не делаю только жду']"
      ]
     },
     "execution_count": 9,
     "metadata": {},
     "output_type": "execute_result"
    }
   ],
   "source": [
    "text = text_proc(text)\n",
    "text[:5]"
   ]
  },
  {
   "cell_type": "code",
   "execution_count": 10,
   "id": "c81bfee7",
   "metadata": {},
   "outputs": [
    {
     "data": {
      "text/plain": [
       "['урнпшз увжкфуб',\n",
       " 'йдзйжэ мтхивфуб д прщпро пзгз',\n",
       " 'фво джвнзмз озтшвзф рерпзм',\n",
       " 'сткгнкивзфуб жтхевб твмзфв стрщзтщкдвб мруору мтвупэо схпмфктро',\n",
       " 'б икдх д мрнржшз']"
      ]
     },
     "execution_count": 10,
     "metadata": {},
     "output_type": "execute_result"
    }
   ],
   "source": [
    "K = 2\n",
    "check_text = text_proc(check_text)\n",
    "check_text = [ caesar_encode(x,CHARS,CHAR_TO_INDEX_С,k=K) for x in check_text]\n",
    "check_text[:5]"
   ]
  },
  {
   "cell_type": "code",
   "execution_count": 11,
   "id": "2deca8a0",
   "metadata": {},
   "outputs": [],
   "source": [
    "#pd.DataFrame(np.array([len(x) for x in text])).hist(bins=50)"
   ]
  },
  {
   "cell_type": "code",
   "execution_count": 12,
   "id": "82e5c462",
   "metadata": {},
   "outputs": [],
   "source": [
    "MAX_LEN = 20  # мы хотим ограничить максимальную длину ввода\n",
    "K=2\n",
    "X = torch.zeros((len(text), MAX_LEN), dtype=int)  # создаём пустой вектор для текста, чтобы класть в него индексы токенов\n",
    "Y = torch.zeros((len(text), MAX_LEN), dtype=int)\n",
    "\n",
    "for i in range(len(text)):  # для каждого предложения\n",
    "    \n",
    "    #сначала шифруем фразу, затем делаем таргет\n",
    "    caesar = caesar_encode(text[i],CHARS,CHAR_TO_INDEX_С,k=K)\n",
    "    for j, w in enumerate(caesar):  # для каждого токена\n",
    "        if j >= MAX_LEN:\n",
    "            break\n",
    "        X[i, j] = CHAR_TO_INDEX.get(w, CHAR_TO_INDEX['none'])\n",
    "        \n",
    "    for j, w in enumerate(text[i]):  # для каждого токена\n",
    "        if j >= MAX_LEN:\n",
    "            break\n",
    "        Y[i, j] = CHAR_TO_INDEX.get(w, CHAR_TO_INDEX['none'])\n",
    " "
   ]
  },
  {
   "cell_type": "code",
   "execution_count": 13,
   "id": "492c3979",
   "metadata": {},
   "outputs": [
    {
     "name": "stdout",
     "output_type": "stream",
     "text": [
      "x train shape torch.Size([272, 20]), y train shape torch.Size([272, 20]), 34\n"
     ]
    }
   ],
   "source": [
    "print(f'x train shape {X.shape}, y train shape {Y.shape}, {len(INDEX_TO_CHAR)}')"
   ]
  },
  {
   "cell_type": "code",
   "execution_count": 14,
   "id": "84457597",
   "metadata": {},
   "outputs": [],
   "source": [
    "class Network(torch.nn.Module):\n",
    "    def __init__(self):\n",
    "        super(Network, self).__init__()\n",
    "        self.embedding = torch.nn.Embedding(34, 34)\n",
    "        self.rnn = torch.nn.RNN(34, 128)\n",
    "        self.out = torch.nn.Linear(128, 34)\n",
    "\n",
    "    def forward(self, sentences, state=None):\n",
    "        x = self.embedding(sentences)\n",
    "        x,s = self.rnn(x)\n",
    "        return self.out(x)"
   ]
  },
  {
   "cell_type": "code",
   "execution_count": 15,
   "id": "1c58f5a3",
   "metadata": {},
   "outputs": [],
   "source": [
    "model = Network()"
   ]
  },
  {
   "cell_type": "code",
   "execution_count": 16,
   "id": "23aee4ab",
   "metadata": {},
   "outputs": [],
   "source": [
    "criterion = torch.nn.CrossEntropyLoss()  # типичный лосс многоклассовой классификации\n",
    "optimizer = torch.optim.SGD(model.parameters(), lr=.05)"
   ]
  },
  {
   "cell_type": "code",
   "execution_count": 18,
   "id": "370ded28",
   "metadata": {},
   "outputs": [
    {
     "name": "stdout",
     "output_type": "stream",
     "text": [
      "Epoch 0. Time: 0.061, Train loss: 3.324\n",
      "Epoch 20. Time: 0.045, Train loss: 0.484\n",
      "Epoch 40. Time: 0.048, Train loss: 0.200\n",
      "Epoch 60. Time: 0.045, Train loss: 0.105\n",
      "Epoch 80. Time: 0.046, Train loss: 0.065\n",
      "Epoch 100. Time: 0.045, Train loss: 0.045\n",
      "Epoch 120. Time: 0.044, Train loss: 0.034\n",
      "Epoch 140. Time: 0.048, Train loss: 0.027\n",
      "Epoch 160. Time: 0.048, Train loss: 0.022\n",
      "Epoch 180. Time: 0.049, Train loss: 0.018\n",
      "Epoch 200. Time: 0.042, Train loss: 0.016\n",
      "Epoch 220. Time: 0.043, Train loss: 0.014\n",
      "Epoch 240. Time: 0.046, Train loss: 0.012\n",
      "Epoch 260. Time: 0.046, Train loss: 0.011\n",
      "Epoch 280. Time: 0.047, Train loss: 0.010\n"
     ]
    }
   ],
   "source": [
    "batch_size = 32\n",
    "\n",
    "for ep in range(300):\n",
    "    start = time.time()\n",
    "    train_loss = 0.\n",
    "    train_passed = 0\n",
    "\n",
    "    for i in range(int(len(X) / batch_size)):\n",
    "        X_batch = X[i * batch_size:(i + 1) * batch_size]\n",
    "        Y_batch = Y[i * batch_size:(i + 1) * batch_size].flatten()\n",
    "        optimizer.zero_grad()\n",
    "        answers = model.forward(X_batch)\n",
    "        answers = answers.view(-1, len(INDEX_TO_CHAR))\n",
    "        loss = criterion(answers, Y_batch)\n",
    "        train_loss += loss.item()\n",
    "\n",
    "        loss.backward()\n",
    "        optimizer.step()\n",
    "        train_passed += 1\n",
    "    if ep%20==0:\n",
    "        print(\"Epoch {}. Time: {:.3f}, Train loss: {:.3f}\".format(ep, time.time() - start, train_loss / train_passed))\n"
   ]
  },
  {
   "cell_type": "code",
   "execution_count": 19,
   "id": "80db105a",
   "metadata": {},
   "outputs": [],
   "source": [
    "def decode_sentence(word):\n",
    "    sentence = list(word)\n",
    "    sentence = [CHAR_TO_INDEX.get(s, CHAR_TO_INDEX['none']) for s in sentence]\n",
    "    answers = model.forward(torch.tensor(sentence))\n",
    "    probas, indices = answers.topk(1)\n",
    "    return ''.join([INDEX_TO_CHAR[ind.item()] for ind in indices.flatten()])"
   ]
  },
  {
   "cell_type": "code",
   "execution_count": 20,
   "id": "08aa8e81",
   "metadata": {},
   "outputs": [
    {
     "data": {
      "text/plain": [
       "['урнпшз увжкфуб',\n",
       " 'йдзйжэ мтхивфуб д прщпро пзгз',\n",
       " 'фво джвнзмз озтшвзф рерпзм',\n",
       " 'сткгнкивзфуб жтхевб твмзфв стрщзтщкдвб мруору мтвупэо схпмфктро',\n",
       " 'б икдх д мрнржшз',\n",
       " 'б икдх д мрнржшз мвм жэомв',\n",
       " 'мвм свт д мвозппрл енрфмз',\n",
       " 'пвдзтчх б дких чрнржпэз прщпэз к хфтзппкз йдзйжэ дких урнпшз',\n",
       " 'к сра кпрежв жтздпкз сзупк яфрер октв сзупк дтзозп зер апруфк',\n",
       " 'мвм б орех умвйвфю щфр б фвмрз мрежв к уво пз йпва',\n",
       " 'пкмвм пз орех',\n",
       " 'б струфр ижх']"
      ]
     },
     "execution_count": 20,
     "metadata": {},
     "output_type": "execute_result"
    }
   ],
   "source": [
    "check_text"
   ]
  },
  {
   "cell_type": "code",
   "execution_count": 21,
   "id": "0e2e7754",
   "metadata": {},
   "outputs": [],
   "source": [
    "result = []\n",
    "for s in check_text:\n",
    "    result.append(decode_sentence(s))"
   ]
  },
  {
   "cell_type": "code",
   "execution_count": 22,
   "id": "63a03717",
   "metadata": {},
   "outputs": [
    {
     "data": {
      "text/plain": [
       "['солнце садится',\n",
       " 'звезды кружатся в ночном небе',\n",
       " 'там вдалеке мерцает огонек',\n",
       " 'приближается другая ракета прочерчивая космос красным пунктиром',\n",
       " 'я живу в колодце',\n",
       " 'я живу в колодце как дымка',\n",
       " 'как пар в каменной глотке',\n",
       " 'наверху я вижу холодные ночные и утренние звезды вижу солнце',\n",
       " 'и пою иногда древние песни этого мира песни времен его юности',\n",
       " 'как я могу сказать что я такое когда и сам не знаю',\n",
       " 'никак не могу',\n",
       " 'я просто жду']"
      ]
     },
     "execution_count": 22,
     "metadata": {},
     "output_type": "execute_result"
    }
   ],
   "source": [
    "result"
   ]
  },
  {
   "cell_type": "markdown",
   "id": "59abad96",
   "metadata": {},
   "source": [
    "Алгоритм запомнил соответствие символов"
   ]
  },
  {
   "cell_type": "markdown",
   "id": "740c3d7c",
   "metadata": {},
   "source": [
    "# Практика из лекции"
   ]
  },
  {
   "cell_type": "code",
   "execution_count": 24,
   "id": "482eff78",
   "metadata": {},
   "outputs": [],
   "source": [
    "import re\n",
    "import string"
   ]
  },
  {
   "cell_type": "code",
   "execution_count": 25,
   "id": "076935a3",
   "metadata": {},
   "outputs": [
    {
     "data": {
      "text/html": [
       "<div>\n",
       "<style scoped>\n",
       "    .dataframe tbody tr th:only-of-type {\n",
       "        vertical-align: middle;\n",
       "    }\n",
       "\n",
       "    .dataframe tbody tr th {\n",
       "        vertical-align: top;\n",
       "    }\n",
       "\n",
       "    .dataframe thead th {\n",
       "        text-align: right;\n",
       "    }\n",
       "</style>\n",
       "<table border=\"1\" class=\"dataframe\">\n",
       "  <thead>\n",
       "    <tr style=\"text-align: right;\">\n",
       "      <th></th>\n",
       "      <th>id</th>\n",
       "      <th>episode_id</th>\n",
       "      <th>number</th>\n",
       "      <th>raw_text</th>\n",
       "      <th>timestamp_in_ms</th>\n",
       "      <th>speaking_line</th>\n",
       "      <th>character_id</th>\n",
       "      <th>location_id</th>\n",
       "      <th>raw_character_text</th>\n",
       "      <th>raw_location_text</th>\n",
       "      <th>spoken_words</th>\n",
       "      <th>normalized_text</th>\n",
       "      <th>word_count</th>\n",
       "    </tr>\n",
       "  </thead>\n",
       "  <tbody>\n",
       "    <tr>\n",
       "      <th>0</th>\n",
       "      <td>9549</td>\n",
       "      <td>32</td>\n",
       "      <td>209</td>\n",
       "      <td>Miss Hoover: No, actually, it was a little of ...</td>\n",
       "      <td>848000</td>\n",
       "      <td>true</td>\n",
       "      <td>464</td>\n",
       "      <td>3.0</td>\n",
       "      <td>Miss Hoover</td>\n",
       "      <td>Springfield Elementary School</td>\n",
       "      <td>No, actually, it was a little of both. Sometim...</td>\n",
       "      <td>no actually it was a little of both sometimes ...</td>\n",
       "      <td>31</td>\n",
       "    </tr>\n",
       "    <tr>\n",
       "      <th>1</th>\n",
       "      <td>9550</td>\n",
       "      <td>32</td>\n",
       "      <td>210</td>\n",
       "      <td>Lisa Simpson: (NEAR TEARS) Where's Mr. Bergstrom?</td>\n",
       "      <td>856000</td>\n",
       "      <td>true</td>\n",
       "      <td>9</td>\n",
       "      <td>3.0</td>\n",
       "      <td>Lisa Simpson</td>\n",
       "      <td>Springfield Elementary School</td>\n",
       "      <td>Where's Mr. Bergstrom?</td>\n",
       "      <td>wheres mr bergstrom</td>\n",
       "      <td>3</td>\n",
       "    </tr>\n",
       "    <tr>\n",
       "      <th>2</th>\n",
       "      <td>9551</td>\n",
       "      <td>32</td>\n",
       "      <td>211</td>\n",
       "      <td>Miss Hoover: I don't know. Although I'd sure l...</td>\n",
       "      <td>856000</td>\n",
       "      <td>true</td>\n",
       "      <td>464</td>\n",
       "      <td>3.0</td>\n",
       "      <td>Miss Hoover</td>\n",
       "      <td>Springfield Elementary School</td>\n",
       "      <td>I don't know. Although I'd sure like to talk t...</td>\n",
       "      <td>i dont know although id sure like to talk to h...</td>\n",
       "      <td>22</td>\n",
       "    </tr>\n",
       "    <tr>\n",
       "      <th>3</th>\n",
       "      <td>9552</td>\n",
       "      <td>32</td>\n",
       "      <td>212</td>\n",
       "      <td>Lisa Simpson: That life is worth living.</td>\n",
       "      <td>864000</td>\n",
       "      <td>true</td>\n",
       "      <td>9</td>\n",
       "      <td>3.0</td>\n",
       "      <td>Lisa Simpson</td>\n",
       "      <td>Springfield Elementary School</td>\n",
       "      <td>That life is worth living.</td>\n",
       "      <td>that life is worth living</td>\n",
       "      <td>5</td>\n",
       "    </tr>\n",
       "    <tr>\n",
       "      <th>4</th>\n",
       "      <td>9553</td>\n",
       "      <td>32</td>\n",
       "      <td>213</td>\n",
       "      <td>Edna Krabappel-Flanders: The polls will be ope...</td>\n",
       "      <td>864000</td>\n",
       "      <td>true</td>\n",
       "      <td>40</td>\n",
       "      <td>3.0</td>\n",
       "      <td>Edna Krabappel-Flanders</td>\n",
       "      <td>Springfield Elementary School</td>\n",
       "      <td>The polls will be open from now until the end ...</td>\n",
       "      <td>the polls will be open from now until the end ...</td>\n",
       "      <td>33</td>\n",
       "    </tr>\n",
       "  </tbody>\n",
       "</table>\n",
       "</div>"
      ],
      "text/plain": [
       "     id  episode_id  number  \\\n",
       "0  9549          32     209   \n",
       "1  9550          32     210   \n",
       "2  9551          32     211   \n",
       "3  9552          32     212   \n",
       "4  9553          32     213   \n",
       "\n",
       "                                            raw_text timestamp_in_ms  \\\n",
       "0  Miss Hoover: No, actually, it was a little of ...          848000   \n",
       "1  Lisa Simpson: (NEAR TEARS) Where's Mr. Bergstrom?          856000   \n",
       "2  Miss Hoover: I don't know. Although I'd sure l...          856000   \n",
       "3           Lisa Simpson: That life is worth living.          864000   \n",
       "4  Edna Krabappel-Flanders: The polls will be ope...          864000   \n",
       "\n",
       "  speaking_line character_id  location_id       raw_character_text  \\\n",
       "0          true          464          3.0              Miss Hoover   \n",
       "1          true            9          3.0             Lisa Simpson   \n",
       "2          true          464          3.0              Miss Hoover   \n",
       "3          true            9          3.0             Lisa Simpson   \n",
       "4          true           40          3.0  Edna Krabappel-Flanders   \n",
       "\n",
       "               raw_location_text  \\\n",
       "0  Springfield Elementary School   \n",
       "1  Springfield Elementary School   \n",
       "2  Springfield Elementary School   \n",
       "3  Springfield Elementary School   \n",
       "4  Springfield Elementary School   \n",
       "\n",
       "                                        spoken_words  \\\n",
       "0  No, actually, it was a little of both. Sometim...   \n",
       "1                             Where's Mr. Bergstrom?   \n",
       "2  I don't know. Although I'd sure like to talk t...   \n",
       "3                         That life is worth living.   \n",
       "4  The polls will be open from now until the end ...   \n",
       "\n",
       "                                     normalized_text word_count  \n",
       "0  no actually it was a little of both sometimes ...         31  \n",
       "1                                wheres mr bergstrom          3  \n",
       "2  i dont know although id sure like to talk to h...         22  \n",
       "3                          that life is worth living          5  \n",
       "4  the polls will be open from now until the end ...         33  "
      ]
     },
     "execution_count": 25,
     "metadata": {},
     "output_type": "execute_result"
    }
   ],
   "source": [
    "df = pd.read_csv(r\"./simpsons_script_lines.csv\",low_memory=False)\n",
    "df.head(5)"
   ]
  },
  {
   "cell_type": "code",
   "execution_count": 26,
   "id": "b666564f",
   "metadata": {},
   "outputs": [
    {
     "data": {
      "text/plain": [
       "['no actually it was a little of both sometimes when a disease is in all the magazines and all the news shows its only natural that you think you have it',\n",
       " 'wheres mr bergstrom',\n",
       " 'i dont know although id sure like to talk to him he didnt touch my lesson plan what did he teach you',\n",
       " 'that life is worth living',\n",
       " 'the polls will be open from now until the end of recess now just in case any of you have decided to put any thought into this well have our final statements martin',\n",
       " 'i dont think theres anything left to say',\n",
       " 'bart',\n",
       " 'victory party under the slide',\n",
       " nan,\n",
       " 'mr bergstrom mr bergstrom']"
      ]
     },
     "execution_count": 26,
     "metadata": {},
     "output_type": "execute_result"
    }
   ],
   "source": [
    "phrases = df['normalized_text'].tolist()  # колонка с предобработанными текстами\n",
    "phrases[:10]"
   ]
  },
  {
   "cell_type": "code",
   "execution_count": 27,
   "id": "5f8fe47e",
   "metadata": {},
   "outputs": [],
   "source": [
    "CHARS = string.ascii_lowercase  + \" \" #+ string.digits\n",
    "n_chars = len(CHARS)"
   ]
  },
  {
   "cell_type": "code",
   "execution_count": 28,
   "id": "675008a4",
   "metadata": {},
   "outputs": [
    {
     "name": "stdout",
     "output_type": "stream",
     "text": [
      "shape 158271 to 117006\n"
     ]
    }
   ],
   "source": [
    "#немного почистим датасет, уберём пустые записи, записи с символами, отличными от нашего словаря\n",
    "\n",
    "ds_n = len(phrases)\n",
    "phrases = [ x for x in phrases if isinstance(x,str) and len(x.strip()) >1]\n",
    "phrases = [ x for x in phrases if not re.search(fr\"[^{CHARS}]\",x)]\n",
    "print(f'shape {ds_n} to {len(phrases)}')"
   ]
  },
  {
   "cell_type": "code",
   "execution_count": 29,
   "id": "1337065c",
   "metadata": {},
   "outputs": [
    {
     "data": {
      "text/plain": [
       "28"
      ]
     },
     "execution_count": 29,
     "metadata": {},
     "output_type": "execute_result"
    }
   ],
   "source": [
    "INDEX_TO_CHAR = ['none'] + [w for w in CHARS] \n",
    "CHAR_TO_INDEX = {w: i for i, w in enumerate(INDEX_TO_CHAR)}  # словарь токен-индекс\n",
    "n_chars +=1\n",
    "n_chars"
   ]
  },
  {
   "cell_type": "code",
   "execution_count": 30,
   "id": "1d4d4236",
   "metadata": {},
   "outputs": [],
   "source": [
    "text = [[c for c in ph] for ph in phrases if type(ph) is str]"
   ]
  },
  {
   "cell_type": "code",
   "execution_count": 31,
   "id": "9802bfd1",
   "metadata": {},
   "outputs": [],
   "source": [
    "MAX_LEN = 50  # мы хотим ограничить максимальную длину ввода\n",
    "X = torch.zeros((len(phrases), MAX_LEN), dtype=int)  # создаём пустой вектор для текста, чтобы класть в него индексы токенов\n",
    "for i in range(len(phrases)):  # для каждого предложения\n",
    "    for j, w in enumerate(phrases[i]):  # для каждого токена\n",
    "        if j >= MAX_LEN:\n",
    "            break\n",
    "        X[i, j] = CHAR_TO_INDEX.get(w, CHAR_TO_INDEX['none'])"
   ]
  },
  {
   "cell_type": "code",
   "execution_count": 32,
   "id": "3af5c488",
   "metadata": {},
   "outputs": [
    {
     "data": {
      "text/plain": [
       "torch.Size([117006, 50])"
      ]
     },
     "execution_count": 32,
     "metadata": {},
     "output_type": "execute_result"
    }
   ],
   "source": [
    "X.shape"
   ]
  },
  {
   "cell_type": "code",
   "execution_count": 45,
   "id": "c3cf8ffd",
   "metadata": {},
   "outputs": [],
   "source": [
    "class RNN(nn.Module):\n",
    "    def __init__(self, in_n, hidden_n,out_n):\n",
    "        super(RNN, self).__init__()\n",
    "        \n",
    "        self.hidden_size = hidden_n\n",
    "        \n",
    "        self.embedding = torch.nn.Embedding(28, 30)\n",
    "        self._in = nn.Linear(30, hidden_n)\n",
    "        self._hidden = nn.Linear(hidden_n, hidden_n)\n",
    "        self._out = nn.Linear(hidden_n, out_n)\n",
    "       \n",
    "    def forward(self, x, h):\n",
    "        x = self.embedding(x) \n",
    "        x = self._in(x) \n",
    "        h = self._hidden(h)\n",
    "        h = torch.tanh(x + h)\n",
    "        o = self._out(h)\n",
    "        return o, h\n",
    "\n",
    "    def initHidden(self):\n",
    "        return torch.zeros(1, self.hidden_size)"
   ]
  },
  {
   "cell_type": "code",
   "execution_count": 46,
   "id": "48b6ef63",
   "metadata": {},
   "outputs": [],
   "source": [
    "n_hidden = 128\n",
    "model = RNN(n_chars, n_hidden, n_chars)"
   ]
  },
  {
   "cell_type": "code",
   "execution_count": 47,
   "id": "ef856be0",
   "metadata": {},
   "outputs": [],
   "source": [
    "lr = 0.0001\n",
    "criterion = torch.nn.CrossEntropyLoss()  # типичный лосс многоклассовой классификации\n",
    "optimizer = torch.optim.Adam(model.parameters(), lr=lr)"
   ]
  },
  {
   "cell_type": "code",
   "execution_count": 48,
   "id": "cf5a6b3e",
   "metadata": {},
   "outputs": [],
   "source": [
    "#функция одной итерации\n",
    "def train_iter(line_tensor,Y):\n",
    "    \n",
    "    line_tensor = line_tensor.transpose(0, 1)\n",
    "    Y = Y.transpose(0, 1)\n",
    "    \n",
    "    hidden = model.initHidden()\n",
    "    model.zero_grad()\n",
    "    for i in range(min(line_tensor.size()[0],seq_len)):\n",
    "        output, hidden = model.forward(line_tensor[i], hidden)\n",
    "        targert = Y[i]\n",
    "    \n",
    "    #print(line_tensor.shape,Y.shape)\n",
    "    #print(line_tensor[i].shape,hidden.shape,targert.shape)\n",
    "    #return 0\n",
    "    loss = criterion(output, targert)\n",
    "    loss.backward()\n",
    "    optimizer.step()\n",
    "        \n",
    "    return output, loss.item()"
   ]
  },
  {
   "cell_type": "code",
   "execution_count": 49,
   "id": "ba2da97d",
   "metadata": {},
   "outputs": [
    {
     "name": "stdout",
     "output_type": "stream",
     "text": [
      "Epoch 0. Time: 17.336, Train loss: 2.210\n",
      "Epoch 5. Time: 16.930, Train loss: 1.664\n",
      "Epoch 10. Time: 17.043, Train loss: 1.540\n",
      "Epoch 15. Time: 17.041, Train loss: 1.466\n",
      "Epoch 20. Time: 16.996, Train loss: 1.415\n",
      "Epoch 25. Time: 17.686, Train loss: 1.376\n",
      "Epoch 30. Time: 17.013, Train loss: 1.344\n",
      "Epoch 35. Time: 17.179, Train loss: 1.317\n",
      "Epoch 40. Time: 16.967, Train loss: 1.294\n",
      "Epoch 45. Time: 16.988, Train loss: 1.274\n",
      "Epoch 50. Time: 17.060, Train loss: 1.256\n",
      "Epoch 55. Time: 16.893, Train loss: 1.240\n",
      "Epoch 60. Time: 17.152, Train loss: 1.225\n",
      "Epoch 65. Time: 17.189, Train loss: 1.212\n",
      "Epoch 70. Time: 17.420, Train loss: 1.200\n",
      "Epoch 75. Time: 17.084, Train loss: 1.189\n",
      "Epoch 80. Time: 16.792, Train loss: 1.179\n",
      "Epoch 85. Time: 17.411, Train loss: 1.169\n",
      "Epoch 90. Time: 17.233, Train loss: 1.161\n",
      "Epoch 95. Time: 16.842, Train loss: 1.152\n",
      "Epoch 99. Time: 17.085, Train loss: 1.146\n"
     ]
    }
   ],
   "source": [
    "seq_len = 10\n",
    "batch_size = 32\n",
    "ep_n = 100\n",
    "#hidden = model.init_rnn()#.to(device)\n",
    "model.train()\n",
    "for ep in range(ep_n):\n",
    "    start = time.time()\n",
    "    train_loss = 0.\n",
    "    train_passed = 0\n",
    "\n",
    "    for i in range(int(len(phrases) / batch_size)):\n",
    "        #batch = lineToTensor(phrases[i * batch_size:(i + 1) * batch_size][0])\n",
    "        batch = X[i * batch_size:(i + 1) * batch_size]\n",
    "        X_batch = batch[:, :-1]\n",
    "        Y_batch = batch[:, 1:]\n",
    "        \n",
    "        output, loss = train_iter(X_batch,Y_batch)\n",
    "        train_loss += loss\n",
    "        \n",
    "        train_passed += 1\n",
    "        \n",
    "        #if i%1000==0:\n",
    "        #    print(\"Iter {}. Time: {:.3f}, Train loss: {:.3f}\".format(i, time.time() - start, train_loss / train_passed))\n",
    "    if ep%5==0:\n",
    "        print(\"Epoch {}. Time: {:.3f}, Train loss: {:.3f}\".format(ep, time.time() - start, train_loss / train_passed))\n",
    "print(\"Epoch {}. Time: {:.3f}, Train loss: {:.3f}\".format(ep, time.time() - start, train_loss / train_passed))"
   ]
  },
  {
   "cell_type": "code",
   "execution_count": 50,
   "id": "38610f49",
   "metadata": {},
   "outputs": [],
   "source": [
    "def generate_sentence(start, symbol_len=50):\n",
    "\n",
    "    model.eval()\n",
    "\n",
    "    sentence = list(start)\n",
    "    sentence = [CHAR_TO_INDEX.get(s, 0) for s in sentence]\n",
    "    sentence = torch.tensor(sentence).long()\n",
    "\n",
    "    hidden = model.initHidden()\n",
    "    \n",
    "    #прогреваем\n",
    "    for i in range(sentence.size()[0]):\n",
    "        output, hidden = model(sentence[i], hidden)\n",
    "\n",
    "    probas, indices = output.topk(1)   \n",
    "    #получаем новые данные\n",
    "    predicted = \"\"\n",
    "    for i in range(symbol_len - 1):\n",
    "        output, hidden = model.forward(indices, hidden)\n",
    "        probas, indices = output.topk(1) \n",
    "        predicted += ''.join([INDEX_TO_CHAR[ind.item()] for ind in indices.flatten()])\n",
    "\n",
    "    return predicted"
   ]
  },
  {
   "cell_type": "code",
   "execution_count": 51,
   "id": "e6bae475",
   "metadata": {},
   "outputs": [
    {
     "data": {
      "text/plain": [
       "'rs a come is the am'"
      ]
     },
     "execution_count": 51,
     "metadata": {},
     "output_type": "execute_result"
    }
   ],
   "source": [
    "generate_sentence('start',20)"
   ]
  },
  {
   "cell_type": "code",
   "execution_count": 52,
   "id": "bd7798e7",
   "metadata": {},
   "outputs": [
    {
     "data": {
      "text/plain": [
       "'rs a come is the ameat that was a port out the mo'"
      ]
     },
     "execution_count": 52,
     "metadata": {},
     "output_type": "execute_result"
    }
   ],
   "source": [
    "generate_sentence('start',50)"
   ]
  },
  {
   "cell_type": "code",
   "execution_count": 53,
   "id": "7db74795",
   "metadata": {},
   "outputs": [
    {
     "data": {
      "text/plain": [
       "'reent im gonna be t'"
      ]
     },
     "execution_count": 53,
     "metadata": {},
     "output_type": "execute_result"
    }
   ],
   "source": [
    "generate_sentence('ura ',20)"
   ]
  },
  {
   "cell_type": "code",
   "execution_count": 54,
   "id": "185d9003",
   "metadata": {},
   "outputs": [
    {
     "data": {
      "text/plain": [
       "'ou are you got a lo'"
      ]
     },
     "execution_count": 54,
     "metadata": {},
     "output_type": "execute_result"
    }
   ],
   "source": [
    "generate_sentence('i dont think ',20)"
   ]
  },
  {
   "cell_type": "code",
   "execution_count": 59,
   "id": "fc11ed30",
   "metadata": {},
   "outputs": [
    {
     "data": {
      "text/plain": [
       "'he breate is the mands homer i want to stop it th'"
      ]
     },
     "execution_count": 59,
     "metadata": {},
     "output_type": "execute_result"
    }
   ],
   "source": [
    "generate_sentence('the polls will be open from now until the end of ',50)"
   ]
  },
  {
   "cell_type": "markdown",
   "id": "364c9ec3",
   "metadata": {},
   "source": [
    "В алгоритме я ограничиваю глубину просмотра каждого  символов параметром seq_len.\n",
    "Можно еще сделать проход окном, увеличив количество данных для обучения, но это на потом :)"
   ]
  },
  {
   "cell_type": "code",
   "execution_count": null,
   "id": "5767c54d",
   "metadata": {},
   "outputs": [],
   "source": []
  }
 ],
 "metadata": {
  "kernelspec": {
   "display_name": "Python 3 (ipykernel)",
   "language": "python",
   "name": "python3"
  },
  "language_info": {
   "codemirror_mode": {
    "name": "ipython",
    "version": 3
   },
   "file_extension": ".py",
   "mimetype": "text/x-python",
   "name": "python",
   "nbconvert_exporter": "python",
   "pygments_lexer": "ipython3",
   "version": "3.9.7"
  }
 },
 "nbformat": 4,
 "nbformat_minor": 5
}
